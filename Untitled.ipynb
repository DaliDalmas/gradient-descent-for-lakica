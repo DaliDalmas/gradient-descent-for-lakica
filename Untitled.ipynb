{
 "cells": [
  {
   "cell_type": "code",
   "execution_count": 241,
   "id": "bda28622-de0b-48a0-a7da-64bb14fb699c",
   "metadata": {},
   "outputs": [],
   "source": [
    "import pandas as pd\n",
    "from random import random\n",
    "import numpy as np"
   ]
  },
  {
   "cell_type": "code",
   "execution_count": 242,
   "id": "cc5c9ba5-ad84-4f75-b3a5-0c9364e8c6fd",
   "metadata": {},
   "outputs": [
    {
     "data": {
      "text/plain": [
       "0.9236126273924047"
      ]
     },
     "execution_count": 242,
     "metadata": {},
     "output_type": "execute_result"
    }
   ],
   "source": [
    "random()"
   ]
  },
  {
   "cell_type": "code",
   "execution_count": 243,
   "id": "1e151fc2-326d-4efb-899b-0909299fed44",
   "metadata": {},
   "outputs": [],
   "source": [
    "data = pd.read_csv('MOCK_DATA.csv')"
   ]
  },
  {
   "cell_type": "code",
   "execution_count": 244,
   "id": "a0782807-bd26-4076-b5f3-5ede388fe0e3",
   "metadata": {},
   "outputs": [],
   "source": [
    "row = [1, 90998651.77, 2, 12]\n",
    "n_cols = len(row)+1\n",
    "y = 36\n",
    "constants = [random() for i in range(n_cols)]\n",
    "def y_hat(row,constants):\n",
    "    contants = np.array(constants)\n",
    "    row = np.array(row)\n",
    "    return row.dot(constants)"
   ]
  },
  {
   "cell_type": "code",
   "execution_count": 245,
   "id": "5e4a8100-68ba-45c1-a1f2-9e08a8bb3864",
   "metadata": {},
   "outputs": [],
   "source": [
    "alpha = 0.1\n",
    "m = data.shape[0]\n",
    "temp_constants = []\n",
    "q=0\n",
    "while q<10:\n",
    "    for beta in constants:\n",
    "        sum_=0\n",
    "        for row,y in zip(data.drop('months',axis=1).values,data['months'].values):\n",
    "            row = list(row)\n",
    "            row = [1]+row\n",
    "            sum_ = sum_ + (y_hat(row,constants)-y)*row[constants.index(beta)]\n",
    "        b = beta-alpha*sum_/m\n",
    "        temp_constants.append(b)\n",
    "    constants = temp_constants\n",
    "    q = 10 if (np.sqrt(sum(constants)-sum(temp_constants) < 10) else 2"
   ]
  },
  {
   "cell_type": "code",
   "execution_count": 246,
   "id": "6c809614-7454-4ce7-b463-86dbf9c874eb",
   "metadata": {},
   "outputs": [
    {
     "data": {
      "text/plain": [
       "[-3416434.9466890176,\n",
       " -19100437.218420636,\n",
       " -228108273107312.22,\n",
       " -13795631.67334786,\n",
       " -22443406.399513602]"
      ]
     },
     "execution_count": 246,
     "metadata": {},
     "output_type": "execute_result"
    }
   ],
   "source": [
    "constants"
   ]
  },
  {
   "cell_type": "code",
   "execution_count": null,
   "id": "6c850967-2bc0-4ccd-8ff7-eb4536cb1dca",
   "metadata": {},
   "outputs": [],
   "source": []
  },
  {
   "cell_type": "code",
   "execution_count": null,
   "id": "05324393-0eb5-4d08-9323-941dda86d4ec",
   "metadata": {},
   "outputs": [],
   "source": []
  },
  {
   "cell_type": "code",
   "execution_count": null,
   "id": "6b50a2c5-47bc-44c6-8022-a980a6cd353b",
   "metadata": {},
   "outputs": [],
   "source": []
  }
 ],
 "metadata": {
  "kernelspec": {
   "display_name": "Python 3 (ipykernel)",
   "language": "python",
   "name": "python3"
  },
  "language_info": {
   "codemirror_mode": {
    "name": "ipython",
    "version": 3
   },
   "file_extension": ".py",
   "mimetype": "text/x-python",
   "name": "python",
   "nbconvert_exporter": "python",
   "pygments_lexer": "ipython3",
   "version": "3.10.0"
  }
 },
 "nbformat": 4,
 "nbformat_minor": 5
}
